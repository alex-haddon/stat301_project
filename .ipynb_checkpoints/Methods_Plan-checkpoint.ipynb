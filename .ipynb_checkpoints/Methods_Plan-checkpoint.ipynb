{
 "cells": [
  {
   "cell_type": "markdown",
   "id": "d43339a6-f015-41c4-bb56-f8d23881155e",
   "metadata": {},
   "source": [
    "# Methods and Plan\n",
    "\n"
   ]
  },
  {
   "cell_type": "markdown",
   "id": "7da711b9-00d6-4431-9fc6-886664a6372c",
   "metadata": {},
   "source": [
    "### Assignment 3: Methods and Plan\n",
    "Propose one method to address your question of interest using the selected dataset and explain why it was chosen. In your explanation respond to the following questions:\n",
    "\n",
    "### Why is this method appropriate?\n",
    "### Which assumptions are required, if any, to apply the method selected?\n",
    "### What are potential limitations or weaknesses of the method selected?\n",
    "\n",
    "As mentioned before, it is fine to share ideas with other group members. However, you don’t need to agree on a unique common method for the group project. In fact, usually the analysis comprise different methods with different strengths and limitations! Regardless of how many methods are proposed within each group, each team member needs to propose one method and justify its choice."
   ]
  },
  {
   "cell_type": "code",
   "execution_count": null,
   "id": "6451682f-70f8-4e2b-890d-cc09ac8b2af7",
   "metadata": {},
   "outputs": [],
   "source": []
  }
 ],
 "metadata": {
  "kernelspec": {
   "display_name": "R",
   "language": "R",
   "name": "ir"
  },
  "language_info": {
   "codemirror_mode": "r",
   "file_extension": ".r",
   "mimetype": "text/x-r-source",
   "name": "R",
   "pygments_lexer": "r",
   "version": "4.2.3"
  }
 },
 "nbformat": 4,
 "nbformat_minor": 5
}
