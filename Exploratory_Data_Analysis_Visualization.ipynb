{
 "cells": [
  {
   "cell_type": "code",
   "execution_count": 1,
   "id": "976ce490-0a87-46e0-b53b-dd73edeb8cec",
   "metadata": {
    "tags": []
   },
   "outputs": [],
   "source": [
    "#start"
   ]
  },
  {
   "cell_type": "code",
   "execution_count": null,
   "id": "82037063-bcbd-411a-936b-617647ab08a4",
   "metadata": {},
   "outputs": [],
   "source": []
  }
 ],
 "metadata": {
  "kernelspec": {
   "display_name": "R",
   "language": "R",
   "name": "ir"
  },
  "language_info": {
   "codemirror_mode": "r",
   "file_extension": ".r",
   "mimetype": "text/x-r-source",
   "name": "R",
   "pygments_lexer": "r",
   "version": "4.2.3"
  }
 },
 "nbformat": 4,
 "nbformat_minor": 5
}
