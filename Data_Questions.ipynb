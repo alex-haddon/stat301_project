{
 "cells": [
  {
   "cell_type": "markdown",
   "id": "c3e678e3-8232-4490-9812-1a26bdce3473",
   "metadata": {},
   "source": [
    "# Data\n",
    "\n",
    "The dataset originates from the National Institute of Diabetes and Digestive and Kidney Diseases. It aims to predict whether a patient has diabetes using diagnostic measurements. The data includes the variables Pregnancies (number of pregnancies), Glucose (Blood glucose level), BloodPressure (Blood Pressure Measurement), SkinThickness (A measure of thickness of skin, zero if missing), Insulin (Insulin in blood level), BMI (Body Mass Index), DiabetesPedigreeFunction (Diabetes percentage likely observed in the patients pedigree), and Age (Age greater than or equal to 21). The final variable Outcome is a dummy varibale (1 for having diabetes, 0 otherwise). Currently, Outcome is represented as an integer but in our data wrangling I plan to change it into a factor variable. Notably, all patients are all female, at least 21 years old, and of Pima Indian heritage. In the data set there are a total of 768 observations. "
   ]
  },
  {
   "cell_type": "markdown",
   "id": "766d4d8f-90c6-4863-be6e-75580cbc802d",
   "metadata": {},
   "source": [
    "| Column                   | Description                                       | Data Type  | Range                      |\n",
    "|--------------------------|---------------------------------------------------|------------|----------------------------|\n",
    "| Pregnancies              | Number of pregnancies                             | Integer    | 0 to 17                    |\n",
    "| Glucose                  | Glucose level in blood (mg/dL)                    | Integer    | 0 to 199                   |\n",
    "| BloodPressure            | Blood pressure measurement (mm Hg)                | Integer    | 0 to 122                   |\n",
    "| SkinThickness            | Thickness of the skin (mm)                        | Integer    | 0 to 99                    |\n",
    "| Insulin                  | Insulin level in blood (mu U/ml)                  | Integer    | 0 to 846                   |\n",
    "| BMI                      | Body mass index (kg/m^2)                          | Numeric    | 0.0 to 67.1                |\n",
    "| DiabetesPedigreeFunction| Diabetes percentage (no units, ratio)              | Numeric    | 0.078 to 2.42              |\n",
    "| Age                      | Age (years)                                       | Integer    | 21 to 81                   |\n",
    "| Outcome                  | Dummy Variable (1 is has diabetes, 0 is does not) | Integer    | 0 or 1                     |\n",
    "\n"
   ]
  },
  {
   "cell_type": "markdown",
   "id": "6d4705db-4d6f-40d4-80cb-1a8a9046ae00",
   "metadata": {},
   "source": [
    "# Question\n",
    "\n",
    "Is Skin Thickness associated with a decreased probability of having Diabetes for Pima Indian women over 20?\n",
    "\n",
    "For this question, the explanatory variable would be SkinThickness while also controlling for the other varibales in our data set. The variables include relevant health information about a patient that could influence the outcome carviable of having diabetes. Naturally I would need to create a correlation map to deal with issues of Multicollinearity but that step will come later. In the meantime, I will include all of the varibles in the data set (minus outcome) as explanatory variables. The response variable will be Outcome. Becuase this is represented as a dummy variable, we would be able to treat the predicted value as a likelihood of having diabetes. However, this question is inferential in nature looking specifically at the estimated beta coefficient of skin thickness and judging whether it is significant or not. "
   ]
  }
 ],
 "metadata": {
  "kernelspec": {
   "display_name": "R",
   "language": "R",
   "name": "ir"
  },
  "language_info": {
   "codemirror_mode": "r",
   "file_extension": ".r",
   "mimetype": "text/x-r-source",
   "name": "R",
   "pygments_lexer": "r",
   "version": "4.2.3"
  }
 },
 "nbformat": 4,
 "nbformat_minor": 5
}
